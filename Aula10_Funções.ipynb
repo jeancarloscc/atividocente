{
  "nbformat": 4,
  "nbformat_minor": 0,
  "metadata": {
    "colab": {
      "provenance": [],
      "gpuType": "T4"
    },
    "kernelspec": {
      "name": "python3",
      "display_name": "Python 3"
    },
    "language_info": {
      "name": "python"
    },
    "accelerator": "GPU"
  },
  "cells": [
    {
      "cell_type": "markdown",
      "source": [
        "# Aula 10 - Funções"
      ],
      "metadata": {
        "id": "yVMSVsKmeMHf"
      }
    },
    {
      "cell_type": "markdown",
      "source": [
        "Nesta aula, vamos praticar a definição e o uso de funções em Python.\n",
        "\n",
        "Objetivos:\n",
        "- Compreender a sintaxe básica da criação de funções.\n",
        "- Utilizar funções com e sem parâmetros.\n",
        "- Trabalhar com parâmetros obrigatórios, opcionais, nomeados e múltiplos (*args).\n",
        "- Explorar funções que retornam valores.\n",
        "- Aplicar boas práticas no uso de funções para reutilização e organização do código.\n",
        "\n",
        "Os exercícios a seguir foram elaborados para fixar esses conceitos de forma prática."
      ],
      "metadata": {
        "id": "O-I4K2ghibhU"
      }
    },
    {
      "cell_type": "markdown",
      "source": [
        "### **Função sem parâmentro**"
      ],
      "metadata": {
        "id": "S0cDiqfVeRHq"
      }
    },
    {
      "cell_type": "code",
      "execution_count": 1,
      "metadata": {
        "colab": {
          "base_uri": "https://localhost:8080/"
        },
        "id": "LGKonI-8cNsO",
        "outputId": "97cf5e8a-7001-4daf-8fba-ac9610e6e3af"
      },
      "outputs": [
        {
          "output_type": "stream",
          "name": "stdout",
          "text": [
            "Bem-vindo(a) à aula de funções!\n"
          ]
        }
      ],
      "source": [
        "def boas_vindas():\n",
        "    print(\"Bem-vindo(a) à aula de funções!\")\n",
        "\n",
        "boas_vindas()"
      ]
    },
    {
      "cell_type": "markdown",
      "source": [
        "### **Função com parâmetros obrigatórios**"
      ],
      "metadata": {
        "id": "PupY8vi6eazD"
      }
    },
    {
      "cell_type": "code",
      "source": [
        "def quadrado(numero):\n",
        "    return numero ** 2\n",
        "\n",
        "print(quadrado(5))  # 25\n"
      ],
      "metadata": {
        "colab": {
          "base_uri": "https://localhost:8080/"
        },
        "id": "nfxKk5wzecXU",
        "outputId": "dd20ed6e-6c8f-44a4-9407-674d9c37135e"
      },
      "execution_count": 2,
      "outputs": [
        {
          "output_type": "stream",
          "name": "stdout",
          "text": [
            "25\n"
          ]
        }
      ]
    },
    {
      "cell_type": "markdown",
      "source": [
        "### **Função com vários parâmetros obrigatórios**"
      ],
      "metadata": {
        "id": "KyyU5rvSeiMP"
      }
    },
    {
      "cell_type": "code",
      "source": [
        "def calcula_area(base, altura):\n",
        "    return base * altura\n",
        "\n",
        "print(calcula_area(5, 3))  # 15\n"
      ],
      "metadata": {
        "colab": {
          "base_uri": "https://localhost:8080/"
        },
        "id": "-73DhDDoeh7u",
        "outputId": "bd080ab1-1599-4c91-eea0-47e936768197"
      },
      "execution_count": 3,
      "outputs": [
        {
          "output_type": "stream",
          "name": "stdout",
          "text": [
            "15\n"
          ]
        }
      ]
    },
    {
      "cell_type": "markdown",
      "source": [
        "### **Função com parâmetro opcional**"
      ],
      "metadata": {
        "id": "2tdOIH2IeqNO"
      }
    },
    {
      "cell_type": "code",
      "source": [
        "def cumprimento(nome=\"aluno\"):\n",
        "    print(f\"Olá, {nome}!\")\n",
        "\n",
        "cumprimento()             # Olá, aluno!\n",
        "cumprimento(\"Maria\")      # Olá, Maria!"
      ],
      "metadata": {
        "colab": {
          "base_uri": "https://localhost:8080/"
        },
        "id": "sVEH1Kl0eq7C",
        "outputId": "3bea9c22-61f3-4aad-f875-555f77b20f17"
      },
      "execution_count": 4,
      "outputs": [
        {
          "output_type": "stream",
          "name": "stdout",
          "text": [
            "Olá, aluno!\n",
            "Olá, Maria!\n"
          ]
        }
      ]
    },
    {
      "cell_type": "markdown",
      "source": [
        "### **Função com params**"
      ],
      "metadata": {
        "id": "HjXp28kDeysL"
      }
    },
    {
      "cell_type": "code",
      "source": [
        "def media_ponderada(*notas):\n",
        "    if len(notas) == 0:\n",
        "        return 0\n",
        "    return sum(notas) / len(notas)\n",
        "\n",
        "print(media_ponderada(5, 7, 9))  # 7.0\n"
      ],
      "metadata": {
        "colab": {
          "base_uri": "https://localhost:8080/"
        },
        "id": "jBC926m1eygW",
        "outputId": "21d596a3-902f-4258-e496-c49e28defebe"
      },
      "execution_count": 5,
      "outputs": [
        {
          "output_type": "stream",
          "name": "stdout",
          "text": [
            "7.0\n"
          ]
        }
      ]
    },
    {
      "cell_type": "markdown",
      "source": [
        "### **Função com parâmetro nomeado**"
      ],
      "metadata": {
        "id": "Wb7ivLe8e8kW"
      }
    },
    {
      "cell_type": "code",
      "source": [
        "def dados_pessoais(nome, idade):\n",
        "    print(f\"Nome: {nome}\")\n",
        "    print(f\"Idade: {idade}\")\n",
        "\n",
        "dados_pessoais(idade=20, nome=\"Ana\")"
      ],
      "metadata": {
        "colab": {
          "base_uri": "https://localhost:8080/"
        },
        "id": "fe8KrMKMe8Vo",
        "outputId": "30902c26-ca41-45fd-c391-ee0cd3a4a124"
      },
      "execution_count": 6,
      "outputs": [
        {
          "output_type": "stream",
          "name": "stdout",
          "text": [
            "Nome: Ana\n",
            "Idade: 20\n"
          ]
        }
      ]
    },
    {
      "cell_type": "markdown",
      "source": [
        "### **Função que retorna se número é par ou ímpar**"
      ],
      "metadata": {
        "id": "_u2wAQ2ofFNP"
      }
    },
    {
      "cell_type": "code",
      "source": [
        "def par_ou_impar(n):\n",
        "    if n % 2 == 0:\n",
        "        return \"Par\"\n",
        "    else:\n",
        "        return \"Ímpar\"\n",
        "\n",
        "print(par_ou_impar(4))  # Par\n",
        "print(par_ou_impar(7))  # Ímpar"
      ],
      "metadata": {
        "colab": {
          "base_uri": "https://localhost:8080/"
        },
        "id": "B9pYc-7cfFfA",
        "outputId": "740d8204-5063-4647-f723-a97b8c7b3db6"
      },
      "execution_count": 7,
      "outputs": [
        {
          "output_type": "stream",
          "name": "stdout",
          "text": [
            "Par\n",
            "Ímpar\n"
          ]
        }
      ]
    },
    {
      "cell_type": "markdown",
      "source": [
        "### **Função que retorna o maior valor**"
      ],
      "metadata": {
        "id": "wYG1c58TfL0s"
      }
    },
    {
      "cell_type": "code",
      "source": [
        "def maior_valor(*valores):\n",
        "    if not valores:\n",
        "        return None\n",
        "    return max(valores)\n",
        "\n",
        "print(maior_valor(1, 5, 3, 9))  # 9"
      ],
      "metadata": {
        "colab": {
          "base_uri": "https://localhost:8080/"
        },
        "id": "O_V019S8fNFa",
        "outputId": "dc60cc1f-0195-4b51-cdc4-546c977c6754"
      },
      "execution_count": 8,
      "outputs": [
        {
          "output_type": "stream",
          "name": "stdout",
          "text": [
            "9\n"
          ]
        }
      ]
    },
    {
      "cell_type": "markdown",
      "source": [
        "### **Função que imprime tabuada**"
      ],
      "metadata": {
        "id": "DfXfzuVgfPbW"
      }
    },
    {
      "cell_type": "code",
      "source": [
        "def tabuada(numero):\n",
        "    for i in range(1, 11):\n",
        "        print(f\"{numero} x {i} = {numero * i}\")\n",
        "\n",
        "tabuada(7)"
      ],
      "metadata": {
        "colab": {
          "base_uri": "https://localhost:8080/"
        },
        "id": "PsqKArdBfPr-",
        "outputId": "baee84b3-f44f-47e0-8235-d839a7c0fc6c"
      },
      "execution_count": 9,
      "outputs": [
        {
          "output_type": "stream",
          "name": "stdout",
          "text": [
            "7 x 1 = 7\n",
            "7 x 2 = 14\n",
            "7 x 3 = 21\n",
            "7 x 4 = 28\n",
            "7 x 5 = 35\n",
            "7 x 6 = 42\n",
            "7 x 7 = 49\n",
            "7 x 8 = 56\n",
            "7 x 9 = 63\n",
            "7 x 10 = 70\n"
          ]
        }
      ]
    },
    {
      "cell_type": "markdown",
      "source": [
        "### **Combinação de tudo**"
      ],
      "metadata": {
        "id": "sj71a2Eefbdx"
      }
    },
    {
      "cell_type": "code",
      "source": [
        "def relatorio(nome, notas, exibir_media=False):\n",
        "    maior = max(notas)\n",
        "    menor = min(notas)\n",
        "    media = sum(notas) / len(notas)\n",
        "\n",
        "    if exibir_media:\n",
        "        print(f\"Média de {nome}: {media:.2f}\")\n",
        "\n",
        "    return {\n",
        "        \"nome\": nome,\n",
        "        \"maior_nota\": maior,\n",
        "        \"menor_nota\": menor,\n",
        "        \"media\": media\n",
        "    }\n",
        "\n",
        "aluno = relatorio(\"Carlos\", [8, 7, 10, 6], exibir_media=True)\n",
        "print(aluno)"
      ],
      "metadata": {
        "colab": {
          "base_uri": "https://localhost:8080/"
        },
        "id": "F_NfI4p6fbuz",
        "outputId": "a204cec7-fb02-4f9b-ad1f-8a736af1fd53"
      },
      "execution_count": 10,
      "outputs": [
        {
          "output_type": "stream",
          "name": "stdout",
          "text": [
            "Média de Carlos: 7.75\n",
            "{'nome': 'Carlos', 'maior_nota': 10, 'menor_nota': 6, 'media': 7.75}\n"
          ]
        }
      ]
    },
    {
      "cell_type": "markdown",
      "source": [
        "## Exercicios"
      ],
      "metadata": {
        "id": "umDXtp6ifvIS"
      }
    },
    {
      "cell_type": "markdown",
      "source": [
        "**Exercício 1**: Ler os valores de comprimento, largura e altura e apresentar o valor do volume de uma caixa retangular. Utilize para o cálculo a fórmula: VOLUME = COMPRIMENTO * LARGURA * ALTURA\n",
        "* Função para ler os valores (não recebe parâmetro)\n",
        "* Função para efetuar o cálculo do volume, recebendo como parâmetro o comprimento,a largura e altura\n",
        "* Função para apresentar o resultado (recebe o resultado)"
      ],
      "metadata": {
        "id": "pZOKSW9Wf2fX"
      }
    },
    {
      "cell_type": "code",
      "source": [],
      "metadata": {
        "id": "Fw5dfBnMfw6O"
      },
      "execution_count": 10,
      "outputs": []
    },
    {
      "cell_type": "markdown",
      "source": [
        "**Exercício 2**: Leia um número inteiro e informe e retorne se ele é positivo\n",
        "* Função para ler o valor (não recebe parâmetro e retorna o valor lido)\n",
        "* Função para positivo (recebe como parâmetro o valor lido e retorna verdadeiro se for positivo ou falso se for negativo)"
      ],
      "metadata": {
        "id": "jWy3zn2og98F"
      }
    },
    {
      "cell_type": "code",
      "source": [],
      "metadata": {
        "id": "Kr1snVmkhUg5"
      },
      "execution_count": 10,
      "outputs": []
    },
    {
      "cell_type": "markdown",
      "source": [
        "Exercício 3: Ler uma temperatura em graus Celsius e apresentá-la convertida em graus Fahrenheit. A fórmula de conversão é F = (9 * C + 160) / 5, na qual F é a temperatura em Fahrenheit e C é a temperatura em graus Celsius:\n",
        "* Função para ler os valores\n",
        "* Função para fazer o cálculo\n",
        "* Função para mostrar o resultado"
      ],
      "metadata": {
        "id": "LTpQq80uhn6d"
      }
    },
    {
      "cell_type": "code",
      "source": [],
      "metadata": {
        "id": "eziN_I8MhyEv"
      },
      "execution_count": 10,
      "outputs": []
    },
    {
      "cell_type": "markdown",
      "source": [
        "🧪 Desafio — Crie sua própria função útil\n",
        "\n",
        "Objetivo: Estimular criatividade e reforçar conceitos de funções."
      ],
      "metadata": {
        "id": "wLzgNbc6iobf"
      }
    },
    {
      "cell_type": "markdown",
      "source": [
        "🧠 **Desafio**: Crie uma função que resolva um problema do dia a dia\n",
        "Você deverá criar uma função em Python que faça algo útil, divertido ou interessante.\n",
        "\n",
        "Use o que foi aprendido: **def**, **return**, **parâmetros**, **params**, p**arâmetros opcionais ou nomeados**."
      ],
      "metadata": {
        "id": "TVx8inmOi1Je"
      }
    },
    {
      "cell_type": "markdown",
      "source": [
        "📝 Regras mínimas:\n",
        "* A função deve ter nome descritivo.\n",
        "* Deve usar pelo menos 1 parâmetro.\n",
        "* Deve retornar um valor (ou imprimir algo interessante).\n",
        "* Comentários no código são bem-vindos."
      ],
      "metadata": {
        "id": "H-fbNKq9jHuR"
      }
    },
    {
      "cell_type": "markdown",
      "source": [
        "Exemplos de ideias (só para inspirar, não copiar):\n",
        "* Uma função que gera um nome aleatório de super-herói.\n",
        "* Uma função que diz se um número é primo.\n",
        "* Uma função que simula um sorteio de dados ou cartas.\n",
        "* Uma função que calcula a gorjeta de um restaurante."
      ],
      "metadata": {
        "id": "SpbfqQsljTAT"
      }
    },
    {
      "cell_type": "code",
      "source": [],
      "metadata": {
        "id": "N-bzhhIki0b-"
      },
      "execution_count": 10,
      "outputs": []
    }
  ]
}