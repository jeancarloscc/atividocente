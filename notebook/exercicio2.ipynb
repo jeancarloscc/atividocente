{
 "cells": [
  {
   "cell_type": "markdown",
   "id": "737b8218",
   "metadata": {},
   "source": [
    "Faça um algoritmo que crie dois vetores de 10 elementos gerados de forma\n",
    "aleatória, cada. Depois de criar os vetores, o código deve gerar um terceiro vetor\n",
    "formado pela diferença dos dois vetores originais; um quarto vetor deve ser\n",
    "formado pela soma dos dois vetores originais e, por último, um quinto vetor deve\n",
    "ser formado pela multiplicação dos dois vetores originais."
   ]
  },
  {
   "cell_type": "code",
   "execution_count": 1,
   "id": "05348b61",
   "metadata": {},
   "outputs": [],
   "source": [
    "import random\n",
    "random.seed(42)\n",
    "\n",
    "vetor1 = [random.randint(1, 20) for _ in range(10)]\n",
    "vetor2 = [random.randint(1, 20) for _ in range(10)]"
   ]
  },
  {
   "cell_type": "code",
   "execution_count": 2,
   "id": "28641f4b",
   "metadata": {},
   "outputs": [
    {
     "data": {
      "text/plain": [
       "[4, 1, 9, 8, 8, 5, 4, 18, 3, 19]"
      ]
     },
     "execution_count": 2,
     "metadata": {},
     "output_type": "execute_result"
    }
   ],
   "source": [
    "vetor1"
   ]
  },
  {
   "cell_type": "code",
   "execution_count": 3,
   "id": "46f7403f",
   "metadata": {},
   "outputs": [
    {
     "data": {
      "text/plain": [
       "[14, 2, 1, 3, 7, 8, 17, 20, 1, 18]"
      ]
     },
     "execution_count": 3,
     "metadata": {},
     "output_type": "execute_result"
    }
   ],
   "source": [
    "vetor2"
   ]
  },
  {
   "cell_type": "code",
   "execution_count": 4,
   "id": "7fe46ac1",
   "metadata": {},
   "outputs": [],
   "source": [
    "vetor_diferenca = [a - b for a, b in zip(vetor1, vetor2)]\n",
    "vetor_soma = [a + b for a, b in zip(vetor1, vetor2)]\n",
    "vetor_multiplicacao = [a * b for a, b in zip(vetor1, vetor2)]"
   ]
  },
  {
   "cell_type": "code",
   "execution_count": 5,
   "id": "54a001bd",
   "metadata": {},
   "outputs": [
    {
     "data": {
      "text/plain": [
       "[-10, -1, 8, 5, 1, -3, -13, -2, 2, 1]"
      ]
     },
     "execution_count": 5,
     "metadata": {},
     "output_type": "execute_result"
    }
   ],
   "source": [
    "vetor_diferenca"
   ]
  },
  {
   "cell_type": "code",
   "execution_count": 6,
   "id": "c15f325d",
   "metadata": {},
   "outputs": [
    {
     "data": {
      "text/plain": [
       "[18, 3, 10, 11, 15, 13, 21, 38, 4, 37]"
      ]
     },
     "execution_count": 6,
     "metadata": {},
     "output_type": "execute_result"
    }
   ],
   "source": [
    "vetor_soma"
   ]
  },
  {
   "cell_type": "code",
   "execution_count": 7,
   "id": "d990e85e",
   "metadata": {},
   "outputs": [
    {
     "data": {
      "text/plain": [
       "[56, 2, 9, 24, 56, 40, 68, 360, 3, 342]"
      ]
     },
     "execution_count": 7,
     "metadata": {},
     "output_type": "execute_result"
    }
   ],
   "source": [
    "vetor_multiplicacao"
   ]
  }
 ],
 "metadata": {
  "kernelspec": {
   "display_name": "atividocente-py3.12",
   "language": "python",
   "name": "python3"
  },
  "language_info": {
   "codemirror_mode": {
    "name": "ipython",
    "version": 3
   },
   "file_extension": ".py",
   "mimetype": "text/x-python",
   "name": "python",
   "nbconvert_exporter": "python",
   "pygments_lexer": "ipython3",
   "version": "3.12.8"
  }
 },
 "nbformat": 4,
 "nbformat_minor": 5
}
