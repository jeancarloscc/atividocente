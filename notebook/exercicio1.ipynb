{
 "cells": [
  {
   "cell_type": "markdown",
   "id": "e55e1581",
   "metadata": {},
   "source": [
    "Faça um algoritmo que leia um vetor de 10 valores inteiros e positivos. A partir\n",
    "do vetor original, criar um segundo vetor da seguinte forma: os elementos de\n",
    "índice par receberão os respectivos valores divididos por 2; e os elementos de\n",
    "índice ímpar receberão os respectivos valores multiplicados por 3. Imprima os\n",
    "dois vetores."
   ]
  },
  {
   "cell_type": "code",
   "execution_count": 7,
   "id": "1990b495",
   "metadata": {},
   "outputs": [],
   "source": [
    "import random\n",
    "vetor = [random.randint(1, 20) for _ in range(10)]\n",
    "vetor_novo = []"
   ]
  },
  {
   "cell_type": "code",
   "execution_count": 8,
   "id": "7f40f4b1",
   "metadata": {},
   "outputs": [],
   "source": [
    "for i in vetor:\n",
    "    if i % 2 == 0:\n",
    "        par = i * 2\n",
    "        vetor_novo.append(par)\n",
    "    else:\n",
    "        impar = i * 3\n",
    "        vetor_novo.append(impar)\n"
   ]
  },
  {
   "cell_type": "code",
   "execution_count": 9,
   "id": "15f8d649",
   "metadata": {},
   "outputs": [
    {
     "data": {
      "text/plain": [
       "[21, 27, 16, 33, 45, 21, 3, 28, 20, 27]"
      ]
     },
     "execution_count": 9,
     "metadata": {},
     "output_type": "execute_result"
    }
   ],
   "source": [
    "vetor_novo"
   ]
  }
 ],
 "metadata": {
  "kernelspec": {
   "display_name": "atividocente-py3.12",
   "language": "python",
   "name": "python3"
  },
  "language_info": {
   "codemirror_mode": {
    "name": "ipython",
    "version": 3
   },
   "file_extension": ".py",
   "mimetype": "text/x-python",
   "name": "python",
   "nbconvert_exporter": "python",
   "pygments_lexer": "ipython3",
   "version": "3.12.8"
  }
 },
 "nbformat": 4,
 "nbformat_minor": 5
}
