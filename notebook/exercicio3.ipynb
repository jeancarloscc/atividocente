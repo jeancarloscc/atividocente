{
 "cells": [
  {
   "cell_type": "markdown",
   "id": "dddccef9",
   "metadata": {},
   "source": [
    "Escreva um algoritmo que realiza a soma de duas matrizes 2 x 3."
   ]
  },
  {
   "cell_type": "code",
   "execution_count": 45,
   "id": "59a59f91",
   "metadata": {},
   "outputs": [],
   "source": [
    "import random\n",
    "random.seed(42)\n",
    "matriz_1 = [[random.randint(1, 20) for _ in range(3)] for _ in range(2)]\n",
    "matriz_2 = [[random.randint(1, 20) for _ in range(3)] for _ in range(2)]\n"
   ]
  },
  {
   "cell_type": "code",
   "execution_count": 46,
   "id": "731b2152",
   "metadata": {},
   "outputs": [
    {
     "name": "stdout",
     "output_type": "stream",
     "text": [
      "Matriz 1:\n",
      "[4, 1, 9]\n",
      "[8, 8, 5]\n",
      "Matriz 2:\n",
      "[4, 18, 3]\n",
      "[19, 14, 2]\n"
     ]
    }
   ],
   "source": [
    "print(\"Matriz 1:\")\n",
    "for linha in matriz_1:\n",
    "    print(linha)\n",
    "\n",
    "print(\"Matriz 2:\")\n",
    "for linha in matriz_2:\n",
    "    print(linha)"
   ]
  },
  {
   "cell_type": "code",
   "execution_count": 47,
   "id": "536b8d05",
   "metadata": {},
   "outputs": [
    {
     "name": "stdout",
     "output_type": "stream",
     "text": [
      "[0, 0, 0]\n",
      "[0, 0, 0]\n"
     ]
    }
   ],
   "source": [
    "resultado = [[random.randint(0, 0) for _ in range(3)] for _ in range(2)]\n",
    "for linha in resultado:\n",
    "    print(linha)"
   ]
  },
  {
   "cell_type": "code",
   "execution_count": 48,
   "id": "6dd28ffa",
   "metadata": {},
   "outputs": [
    {
     "name": "stdout",
     "output_type": "stream",
     "text": [
      "[8, 19, 12]\n",
      "[27, 22, 7]\n"
     ]
    }
   ],
   "source": [
    "for i in range(len(matriz_1)):\n",
    "    for j in range(len(matriz_1[0])):\n",
    "        resultado[i][j] = matriz_1[i][j] + matriz_2[i][j]\n",
    "\n",
    "for r in resultado:\n",
    "    print(r)"
   ]
  }
 ],
 "metadata": {
  "kernelspec": {
   "display_name": "atividocente-py3.12",
   "language": "python",
   "name": "python3"
  },
  "language_info": {
   "codemirror_mode": {
    "name": "ipython",
    "version": 3
   },
   "file_extension": ".py",
   "mimetype": "text/x-python",
   "name": "python",
   "nbconvert_exporter": "python",
   "pygments_lexer": "ipython3",
   "version": "3.12.8"
  }
 },
 "nbformat": 4,
 "nbformat_minor": 5
}
