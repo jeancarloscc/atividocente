{
 "cells": [
  {
   "cell_type": "markdown",
   "id": "7da3193d",
   "metadata": {},
   "source": [
    "Elabore um algoritmo que faça a soma dos elementos da diagonal secundária de\n",
    "uma matriz 5 x 5. No final, exiba os elementos da diagonal secundária e a soma\n",
    "deles."
   ]
  },
  {
   "cell_type": "code",
   "execution_count": 9,
   "id": "70e3464d",
   "metadata": {},
   "outputs": [
    {
     "data": {
      "text/plain": [
       "[[4, 1, 9, 8, 8],\n",
       " [5, 4, 18, 3, 19],\n",
       " [14, 2, 1, 3, 7],\n",
       " [8, 17, 20, 1, 18],\n",
       " [7, 18, 14, 8, 15]]"
      ]
     },
     "execution_count": 9,
     "metadata": {},
     "output_type": "execute_result"
    }
   ],
   "source": [
    "import random\n",
    "random.seed(42)\n",
    "\n",
    "matriz_1 = [[random.randint(1, 20) for _ in range(5)] for _ in range(5)]\n",
    "matriz_1"
   ]
  },
  {
   "cell_type": "code",
   "execution_count": 13,
   "id": "c0bf52db",
   "metadata": {},
   "outputs": [
    {
     "name": "stdout",
     "output_type": "stream",
     "text": [
      "8\n",
      "3\n",
      "1\n",
      "17\n",
      "7\n",
      "Soma dos elementos iguais: 36\n"
     ]
    }
   ],
   "source": [
    "soma = 0\n",
    "n = len(matriz_1)\n",
    "for i in range(len(matriz_1)):\n",
    "    for j in range(len(matriz_1[0])):\n",
    "        if matriz_1[i] == matriz_1[j]:\n",
    "            print(matriz_1[i][n - 1 - i])\n",
    "            soma += matriz_1[i][n - 1 - i]\n",
    "print(f\"Soma dos elementos iguais: {soma}\")"
   ]
  }
 ],
 "metadata": {
  "kernelspec": {
   "display_name": "atividocente-py3.12",
   "language": "python",
   "name": "python3"
  },
  "language_info": {
   "codemirror_mode": {
    "name": "ipython",
    "version": 3
   },
   "file_extension": ".py",
   "mimetype": "text/x-python",
   "name": "python",
   "nbconvert_exporter": "python",
   "pygments_lexer": "ipython3",
   "version": "3.12.8"
  }
 },
 "nbformat": 4,
 "nbformat_minor": 5
}
