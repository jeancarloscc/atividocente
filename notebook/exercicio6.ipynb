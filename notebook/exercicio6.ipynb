{
 "cells": [
  {
   "cell_type": "markdown",
   "id": "fdfb60d9",
   "metadata": {},
   "source": [
    "Elabore um algoritmo que construa uma matriz de nome MAT de 5 linhas e 5\n",
    "colunas de números inteiros. Em seguida, escreva a soma dos elementos de cada\n",
    "linha e se a soma dos elementos é par ou ímpar. Por fim, escreva a soma dos\n",
    "elementos de cada coluna e se a soma dos elementos é par ou ímpar."
   ]
  },
  {
   "cell_type": "code",
   "execution_count": 1,
   "id": "1bb6eccc",
   "metadata": {},
   "outputs": [],
   "source": [
    "import random\n",
    "random.seed(42)"
   ]
  },
  {
   "cell_type": "code",
   "execution_count": 2,
   "id": "c092d851",
   "metadata": {},
   "outputs": [
    {
     "data": {
      "text/plain": [
       "[[2, 1, 5, 4, 4],\n",
       " [3, 2, 9, 2, 10],\n",
       " [7, 1, 1, 2, 4],\n",
       " [4, 9, 10, 1, 9],\n",
       " [4, 9, 7, 4, 8]]"
      ]
     },
     "execution_count": 2,
     "metadata": {},
     "output_type": "execute_result"
    }
   ],
   "source": [
    "mat = [[random.randint(1, 10) for _ in range(5)] for _ in range(5)]\n",
    "mat"
   ]
  },
  {
   "cell_type": "code",
   "execution_count": 3,
   "id": "f688c0bd",
   "metadata": {},
   "outputs": [
    {
     "name": "stdout",
     "output_type": "stream",
     "text": [
      "Soma da linha [2, 1, 5, 4, 4] é par: 16\n",
      "Soma da linha [3, 2, 9, 2, 10] é par: 26\n",
      "Soma da linha [7, 1, 1, 2, 4] é ímpar: 15\n",
      "Soma da linha [4, 9, 10, 1, 9] é ímpar: 33\n",
      "Soma da linha [4, 9, 7, 4, 8] é par: 32\n"
     ]
    }
   ],
   "source": [
    "for linha in mat:\n",
    "    soma_linha = sum(linha)\n",
    "    if soma_linha % 2 == 0:\n",
    "        print(f\"Soma da linha {linha} é par: {soma_linha}\")\n",
    "    else:\n",
    "        print(f\"Soma da linha {linha} é ímpar: {soma_linha}\")"
   ]
  },
  {
   "cell_type": "code",
   "execution_count": 4,
   "id": "a99f1e20",
   "metadata": {},
   "outputs": [
    {
     "name": "stdout",
     "output_type": "stream",
     "text": [
      "Soma da linha 0: 16\n",
      "Soma da linha 1: 26\n",
      "Soma da linha 2: 15\n",
      "Soma da linha 3: 33\n",
      "Soma da linha 4: 32\n"
     ]
    }
   ],
   "source": [
    "for i in range(len(mat)):\n",
    "    soma_linha = 0\n",
    "    for j in range(len(mat[i])):\n",
    "        soma_linha = soma_linha + mat[i][j]\n",
    "    print(f\"Soma da linha {i}: {soma_linha}\")\n"
   ]
  }
 ],
 "metadata": {
  "kernelspec": {
   "display_name": "atividocente-py3.12",
   "language": "python",
   "name": "python3"
  },
  "language_info": {
   "codemirror_mode": {
    "name": "ipython",
    "version": 3
   },
   "file_extension": ".py",
   "mimetype": "text/x-python",
   "name": "python",
   "nbconvert_exporter": "python",
   "pygments_lexer": "ipython3",
   "version": "3.12.8"
  }
 },
 "nbformat": 4,
 "nbformat_minor": 5
}
