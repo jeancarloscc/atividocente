{
 "cells": [
  {
   "cell_type": "markdown",
   "id": "7566afb6",
   "metadata": {},
   "source": [
    "Escreva um algoritmo que construa uma matriz 10 por 10 de números reais e\n",
    "depois de construída, colocar o conteúdo de sua diagonal principal dentro de um\n",
    "vetor e depois do vetor montado, imprimir o vetor."
   ]
  },
  {
   "cell_type": "code",
   "execution_count": 5,
   "id": "108d6e22",
   "metadata": {},
   "outputs": [],
   "source": [
    "import random\n",
    "random.seed(42)"
   ]
  },
  {
   "cell_type": "code",
   "execution_count": 14,
   "id": "178fcc7c",
   "metadata": {},
   "outputs": [
    {
     "name": "stdout",
     "output_type": "stream",
     "text": [
      "Matriz 10x10:\n"
     ]
    },
    {
     "data": {
      "text/plain": [
       "[[10, 1, 10, 2, 7, 10, 10, 9, 6, 5],\n",
       " [4, 6, 4, 5, 7, 3, 5, 8, 6, 2],\n",
       " [1, 8, 10, 10, 2, 2, 9, 4, 9, 5],\n",
       " [3, 6, 2, 4, 6, 5, 3, 8, 9, 5],\n",
       " [10, 9, 1, 9, 5, 2, 3, 5, 2, 2],\n",
       " [9, 3, 5, 5, 10, 4, 6, 4, 5, 9],\n",
       " [8, 5, 1, 2, 7, 5, 1, 1, 6, 3],\n",
       " [5, 3, 8, 9, 7, 9, 1, 2, 2, 3],\n",
       " [9, 1, 6, 10, 9, 3, 7, 3, 1, 5],\n",
       " [6, 1, 6, 4, 4, 2, 6, 9, 7, 10]]"
      ]
     },
     "execution_count": 14,
     "metadata": {},
     "output_type": "execute_result"
    }
   ],
   "source": [
    "matriz = [[random.randint(1, 10) for _ in range(10)] for _ in range(10)]\n",
    "print(\"Matriz 10x10:\")\n",
    "matriz"
   ]
  },
  {
   "cell_type": "code",
   "execution_count": null,
   "id": "26784f84",
   "metadata": {},
   "outputs": [],
   "source": [
    "vetor = []\n",
    "for i in range(len(matriz)):\n",
    "    for j in range(len(matriz[0])):\n",
    "        if matriz[i] == matriz[j]:\n",
    "            vetor.append(matriz[i][j])"
   ]
  },
  {
   "cell_type": "code",
   "execution_count": 11,
   "id": "1c083dec",
   "metadata": {},
   "outputs": [
    {
     "name": "stdout",
     "output_type": "stream",
     "text": [
      "Vetor construido com elementos da diagonal da matriz 10x10:\n",
      "[2, 1, 7, 4, 8, 2, 3, 8, 5, 3]\n"
     ]
    }
   ],
   "source": [
    "print(\"Vetor construido com elementos da diagonal da matriz 10x10:\")\n",
    "print(vetor)"
   ]
  }
 ],
 "metadata": {
  "kernelspec": {
   "display_name": "atividocente-py3.12",
   "language": "python",
   "name": "python3"
  },
  "language_info": {
   "codemirror_mode": {
    "name": "ipython",
    "version": 3
   },
   "file_extension": ".py",
   "mimetype": "text/x-python",
   "name": "python",
   "nbconvert_exporter": "python",
   "pygments_lexer": "ipython3",
   "version": "3.12.8"
  }
 },
 "nbformat": 4,
 "nbformat_minor": 5
}
