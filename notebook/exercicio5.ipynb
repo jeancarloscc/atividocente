{
 "cells": [
  {
   "cell_type": "markdown",
   "id": "c7001f03",
   "metadata": {},
   "source": [
    "Faça um algoritmo que leia uma matriz 4 x 4, conte e escreva quantos valores\n",
    "maiores que 10 a matriz possui."
   ]
  },
  {
   "cell_type": "code",
   "execution_count": null,
   "id": "2a842f0c",
   "metadata": {},
   "outputs": [],
   "source": [
    "import random\n",
    "random.seed(42)"
   ]
  },
  {
   "cell_type": "code",
   "execution_count": 5,
   "id": "afb7c1a3",
   "metadata": {},
   "outputs": [
    {
     "data": {
      "text/plain": [
       "[[10, 14, 49, 22], [7, 6, 25, 7], [23, 23, 39, 17], [3, 47, 30, 35]]"
      ]
     },
     "execution_count": 5,
     "metadata": {},
     "output_type": "execute_result"
    }
   ],
   "source": [
    "matriz = [[random.randint(1, 50) for _ in range(4)] for _ in range(4)]\n",
    "matriz"
   ]
  },
  {
   "cell_type": "code",
   "execution_count": null,
   "id": "2375f06c",
   "metadata": {},
   "outputs": [
    {
     "name": "stdout",
     "output_type": "stream",
     "text": [
      "14\n",
      "49\n",
      "22\n",
      "25\n",
      "23\n",
      "23\n",
      "39\n",
      "17\n",
      "47\n",
      "30\n",
      "35\n",
      "Quantidade de elementos maiores que 10:  11\n"
     ]
    }
   ],
   "source": [
    "cont = 0\n",
    "for i in range(len(matriz)):\n",
    "    for j in range(len(matriz[i])):\n",
    "        if matriz[i][j] > 10:\n",
    "            # print(matriz[i][j])\n",
    "            cont += 1\n",
    "print(\"Quantidade de elementos maiores que 10: \", cont)"
   ]
  },
  {
   "cell_type": "code",
   "execution_count": null,
   "id": "2a985b8e",
   "metadata": {},
   "outputs": [],
   "source": []
  }
 ],
 "metadata": {
  "kernelspec": {
   "display_name": "atividocente-py3.12",
   "language": "python",
   "name": "python3"
  },
  "language_info": {
   "codemirror_mode": {
    "name": "ipython",
    "version": 3
   },
   "file_extension": ".py",
   "mimetype": "text/x-python",
   "name": "python",
   "nbconvert_exporter": "python",
   "pygments_lexer": "ipython3",
   "version": "3.12.8"
  }
 },
 "nbformat": 4,
 "nbformat_minor": 5
}
